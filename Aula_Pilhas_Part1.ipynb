{
  "nbformat": 4,
  "nbformat_minor": 0,
  "metadata": {
    "colab": {
      "provenance": [],
      "authorship_tag": "ABX9TyOUw6WpZEYQhDOZ66QpEaiI",
      "include_colab_link": true
    },
    "kernelspec": {
      "name": "python3",
      "display_name": "Python 3"
    },
    "language_info": {
      "name": "python"
    }
  },
  "cells": [
    {
      "cell_type": "markdown",
      "metadata": {
        "id": "view-in-github",
        "colab_type": "text"
      },
      "source": [
        "<a href=\"https://colab.research.google.com/github/lucastamura/algoritimosAvancados/blob/main/Aula_Pilhas_Part1.ipynb\" target=\"_parent\"><img src=\"https://colab.research.google.com/assets/colab-badge.svg\" alt=\"Open In Colab\"/></a>"
      ]
    },
    {
      "cell_type": "code",
      "execution_count": null,
      "metadata": {
        "colab": {
          "base_uri": "https://localhost:8080/"
        },
        "id": "A_jmd2pxVPHr",
        "outputId": "b0604b68-512e-4aad-eba2-0195644356cf"
      },
      "outputs": [
        {
          "output_type": "stream",
          "name": "stdout",
          "text": [
            "Requirement already satisfied: numpy in /usr/local/lib/python3.10/dist-packages (1.23.5)\n"
          ]
        }
      ],
      "source": [
        "pip install numpy"
      ]
    },
    {
      "cell_type": "code",
      "source": [
        "#importando a biblioteca numpy\n",
        "import numpy as np"
      ],
      "metadata": {
        "id": "jSODDV4TVx2j"
      },
      "execution_count": 19,
      "outputs": []
    },
    {
      "cell_type": "code",
      "source": [
        "class Pilha:\n",
        "  def __init__(self, capacidade):\n",
        "    self.__capacidade = capacidade\n",
        "    self.__topo = -1\n",
        "    self.__valores = np.empty(self.__capacidade, dtype=int)\n",
        "\n",
        "  def __pilha_cheia(self):\n",
        "    if self.__topo == self.__capacidade - 1:\n",
        "      return True\n",
        "    else:\n",
        "      return False\n",
        "\n",
        "  def __pilha_vazia(self):\n",
        "    if self.__topo == -1:\n",
        "      return True\n",
        "    else:\n",
        "      return False\n",
        "\n",
        "\n",
        "  def empilhar(self, valor):\n",
        "    if self.__pilha_cheia():\n",
        "      print('A pilha está cheia')\n",
        "    else:\n",
        "      self.__topo += 1\n",
        "      self.__valores[self.__topo] = valor\n",
        "\n",
        "  def desempilhar(self):\n",
        "    if self.__pilha_vazia():\n",
        "      print('A pilha está vazia')\n",
        "    else:\n",
        "      valor = self.__valores[self.__topo]\n",
        "      self.__topo -= 1\n",
        "      topo = self.__topo\n",
        "      print('O valor do topo é', valor)\n",
        "  def ver_topo(self):\n",
        "    if self.__topo != -1:\n",
        "      return self.__valores[self.__topo]\n",
        "    else:\n",
        "      return -1\n",
        ""
      ],
      "metadata": {
        "id": "vzFrlbpsVXkM"
      },
      "execution_count": 29,
      "outputs": []
    },
    {
      "cell_type": "code",
      "source": [
        "pilha = Pilha(5)"
      ],
      "metadata": {
        "id": "BxNKkem1amTA"
      },
      "execution_count": 30,
      "outputs": []
    },
    {
      "cell_type": "code",
      "source": [
        "pilha.empilhar(10)\n"
      ],
      "metadata": {
        "id": "BZ5EeFlnauJ2"
      },
      "execution_count": 31,
      "outputs": []
    },
    {
      "cell_type": "code",
      "source": [
        "pilha.empilhar(21)\n",
        "pilha.empilhar(33)\n",
        "pilha.empilhar(44)\n",
        "pilha.empilhar(57)"
      ],
      "metadata": {
        "id": "ZAdzN7yncQFl"
      },
      "execution_count": 32,
      "outputs": []
    },
    {
      "cell_type": "code",
      "source": [
        "\n",
        "pilha.empilhar(650)\n"
      ],
      "metadata": {
        "colab": {
          "base_uri": "https://localhost:8080/"
        },
        "id": "VgTli5W1a0eB",
        "outputId": "73910d82-1664-48bb-dab2-57e616b25687"
      },
      "execution_count": 40,
      "outputs": [
        {
          "output_type": "stream",
          "name": "stdout",
          "text": [
            "A pilha está cheia\n"
          ]
        }
      ]
    },
    {
      "cell_type": "code",
      "source": [
        "pilha.desempilhar()"
      ],
      "metadata": {
        "colab": {
          "base_uri": "https://localhost:8080/"
        },
        "id": "QuSbbyJtbmrw",
        "outputId": "de84ce52-6d12-4b04-a8c7-a3421fd1e0bb"
      },
      "execution_count": 46,
      "outputs": [
        {
          "output_type": "stream",
          "name": "stdout",
          "text": [
            "A pilha está vazia\n"
          ]
        }
      ]
    }
  ]
}