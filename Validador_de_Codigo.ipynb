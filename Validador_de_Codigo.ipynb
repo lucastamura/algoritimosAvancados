{
  "nbformat": 4,
  "nbformat_minor": 0,
  "metadata": {
    "colab": {
      "provenance": [],
      "authorship_tag": "ABX9TyPyT1R5cMvnyUs/rZmG5XJw",
      "include_colab_link": true
    },
    "kernelspec": {
      "name": "python3",
      "display_name": "Python 3"
    },
    "language_info": {
      "name": "python"
    }
  },
  "cells": [
    {
      "cell_type": "markdown",
      "metadata": {
        "id": "view-in-github",
        "colab_type": "text"
      },
      "source": [
        "<a href=\"https://colab.research.google.com/github/lucastamura/algoritimosAvancados/blob/main/Validador_de_Codigo.ipynb\" target=\"_parent\"><img src=\"https://colab.research.google.com/assets/colab-badge.svg\" alt=\"Open In Colab\"/></a>"
      ]
    },
    {
      "cell_type": "code",
      "execution_count": 2,
      "metadata": {
        "colab": {
          "base_uri": "https://localhost:8080/"
        },
        "id": "toskUHWIk21F",
        "outputId": "75905914-3874-4719-cf52-43072c2cb878"
      },
      "outputs": [
        {
          "output_type": "stream",
          "name": "stdout",
          "text": [
            "Requirement already satisfied: numpy in /usr/local/lib/python3.10/dist-packages (1.23.5)\n"
          ]
        }
      ],
      "source": [
        "pip install numpy"
      ]
    },
    {
      "cell_type": "code",
      "source": [
        "#importando a biblioteca numpy\n",
        "import numpy as np"
      ],
      "metadata": {
        "id": "BDfSREAxk9Yg"
      },
      "execution_count": 10,
      "outputs": []
    },
    {
      "cell_type": "code",
      "source": [
        "# PILHA\n",
        "class Pilha:\n",
        "    def __init__(self, capacidade):\n",
        "        self.__capacidade = capacidade\n",
        "        self.__topo = -1\n",
        "        self.__valores = np.empty(self.__capacidade, dtype=str)\n",
        "\n",
        "    def empilhar(self, valor):\n",
        "        if self.cheio: #validar se a pilha está cheia\n",
        "            self.__topo += 1\n",
        "            self.__valores[self.__topo] = valor\n",
        "\n",
        "    def desempilhar(self):\n",
        "        if self.vazio: #validar se a pilha está vazia\n",
        "            valor = self.__valores[self.__topo]\n",
        "            self.__topo -= 1\n",
        "            return valor\n",
        "\n",
        "\n",
        "    def cheio(self):\n",
        "      if self.__topo == self.__capacidade - 1:\n",
        "        return True\n",
        "\n",
        "    def vazio(self):\n",
        "        return self.__topo == -1 #pilha está vazia"
      ],
      "metadata": {
        "id": "WY3NlmK4ss0i"
      },
      "execution_count": 35,
      "outputs": []
    },
    {
      "cell_type": "code",
      "source": [
        "#VALIDADOR\n",
        "class Validador:\n",
        "    def __init__(self):\n",
        "        self.__abre = \"([{\"\n",
        "        self.__fecha = \")]}\"\n",
        "        self.__pilha = Pilha(100)  # Pilha com no máximo 100 caracteres\n",
        "\n",
        "    def validar(self, codigo):\n",
        "        for caractere in codigo:\n",
        "            if caractere in self.__abre:\n",
        "                self.__pilha.empilhar(caractere)\n",
        "            elif caractere in self.__fecha:\n",
        "                if self.__pilha.vazio():\n",
        "                    return False  # Não há delimitador de abertura correspondente\n",
        "\n",
        "                topo = self.__pilha.desempilhar()\n",
        "                if not self.__comparador(topo, caractere):\n",
        "                    return False  # Delimitadores não casam\n",
        "        return self.__pilha.vazio()\n",
        "\n",
        "    def __comparador(self, __topo, __caractere):\n",
        "        if self.__abre.index(__topo) == self.__fecha.index(__caractere)\n",
        "        return True\n",
        "\n"
      ],
      "metadata": {
        "id": "Rz3H51IVm6aL"
      },
      "execution_count": 36,
      "outputs": []
    },
    {
      "cell_type": "code",
      "source": [
        "teste = Validador()"
      ],
      "metadata": {
        "id": "xochz68VraZW"
      },
      "execution_count": 37,
      "outputs": []
    },
    {
      "cell_type": "code",
      "source": [
        "teste.validar('({})[{}[()}]]')"
      ],
      "metadata": {
        "colab": {
          "base_uri": "https://localhost:8080/"
        },
        "id": "EEQkHaWhuqJw",
        "outputId": "aac4a460-15c4-49ce-e7d9-765d10444d6c"
      },
      "execution_count": 38,
      "outputs": [
        {
          "output_type": "execute_result",
          "data": {
            "text/plain": [
              "False"
            ]
          },
          "metadata": {},
          "execution_count": 38
        }
      ]
    },
    {
      "cell_type": "code",
      "source": [],
      "metadata": {
        "id": "65aB1CJxuu89"
      },
      "execution_count": null,
      "outputs": []
    }
  ]
}