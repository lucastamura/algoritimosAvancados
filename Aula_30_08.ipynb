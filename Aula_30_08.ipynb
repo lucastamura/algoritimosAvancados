{
  "nbformat": 4,
  "nbformat_minor": 0,
  "metadata": {
    "colab": {
      "provenance": [],
      "authorship_tag": "ABX9TyNhi/jixNOCtCbpaYlZkIDU",
      "include_colab_link": true
    },
    "kernelspec": {
      "name": "python3",
      "display_name": "Python 3"
    },
    "language_info": {
      "name": "python"
    }
  },
  "cells": [
    {
      "cell_type": "markdown",
      "metadata": {
        "id": "view-in-github",
        "colab_type": "text"
      },
      "source": [
        "<a href=\"https://colab.research.google.com/github/lucastamura/algoritimosAvancados/blob/main/Aula_30_08.ipynb\" target=\"_parent\"><img src=\"https://colab.research.google.com/assets/colab-badge.svg\" alt=\"Open In Colab\"/></a>"
      ]
    },
    {
      "cell_type": "code",
      "execution_count": null,
      "metadata": {
        "id": "A_jmd2pxVPHr"
      },
      "outputs": [],
      "source": [
        "pip install numpy"
      ]
    },
    {
      "cell_type": "code",
      "source": [
        "#importando a biblioteca numpy\n",
        "import numpy as np"
      ],
      "metadata": {
        "id": "jSODDV4TVx2j"
      },
      "execution_count": null,
      "outputs": []
    },
    {
      "cell_type": "code",
      "source": [
        "class Pilha\n",
        "  def __init__(self, capacidade):\n",
        "    self.__capacidade = capacidade\n",
        "    self.__topo = 1\n",
        "    self.__valores = np.empty(self.__capacidade, dtype=int)\n",
        "\n",
        "def __pilha_cheia(self):\n",
        "  if self.__ == self.__capacidade - 1:\n",
        "    return True\n",
        "  else:\n",
        "    return False\n",
        "\n",
        "\n",
        "def empilhar(self, valor):\n",
        "  if self.__pilha_cheia():\n",
        "    print('A pilha está cheia')\n",
        "  else:\n",
        "    self.__topo += 1\n",
        "    self.__valores[self.__topo] = valor"
      ],
      "metadata": {
        "id": "vzFrlbpsVXkM"
      },
      "execution_count": null,
      "outputs": []
    }
  ]
}