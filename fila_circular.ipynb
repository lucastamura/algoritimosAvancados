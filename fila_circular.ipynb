{
  "nbformat": 4,
  "nbformat_minor": 0,
  "metadata": {
    "colab": {
      "provenance": [],
      "authorship_tag": "ABX9TyMU6MS04jTmq0OnBxfRc1gs",
      "include_colab_link": true
    },
    "kernelspec": {
      "name": "python3",
      "display_name": "Python 3"
    },
    "language_info": {
      "name": "python"
    }
  },
  "cells": [
    {
      "cell_type": "markdown",
      "metadata": {
        "id": "view-in-github",
        "colab_type": "text"
      },
      "source": [
        "<a href=\"https://colab.research.google.com/github/lucastamura/algoritimosAvancados/blob/main/fila_circular.ipynb\" target=\"_parent\"><img src=\"https://colab.research.google.com/assets/colab-badge.svg\" alt=\"Open In Colab\"/></a>"
      ]
    },
    {
      "cell_type": "code",
      "execution_count": null,
      "metadata": {
        "id": "O3gqGZhcaj4A"
      },
      "outputs": [],
      "source": [
        "import numpy as np"
      ]
    },
    {
      "cell_type": "code",
      "source": [
        "class FilaCircular:\n",
        "  def __init__(self, capacidade):\n",
        "    self.capacidade = capacidade\n",
        "    self.inicio = 0\n",
        "    self.final = -1\n",
        "    self.numeros_elementos = 0\n",
        "    self.valores = np.empty(self.capacidade,  dtype = int)\n",
        "\n",
        "  def __fila_vazia(self):\n",
        "    return self.numeros_elementos == 0\n",
        "\n",
        "  def __fila_cheia(self):\n",
        "    return self.numeros_elementos == self.capacidade\n",
        "\n",
        "  def enfileirar (self, valor):\n",
        "    if self.__fila_cheia():\n",
        "      print('A fila estpa cheia!')\n",
        "      return\n",
        "    if self.final == self.capacidade - 1:\n",
        "      self.final = -1\n",
        "    self.final += 1\n",
        "    self.valores[self.final] = valor\n",
        "    self.numeros_elementos += 1\n",
        "\n",
        "  def desenfileirar (self):\n",
        "    if self.__fila_vazia():\n",
        "      print('A fila já está vazia!')\n",
        "      return\n",
        "    temp = self.valores[self.inicio]\n",
        "    self.inicio += 1\n",
        "    if self.inicio == self.capacidade:\n",
        "      self.incio = 0\n",
        "  def primeiro(self):\n",
        "    if self.__fila_vazia():\n",
        "      return -1\n",
        "    else:\n",
        "      return self.valores[self.inicio]"
      ],
      "metadata": {
        "id": "jTzKABW6aq7F"
      },
      "execution_count": null,
      "outputs": []
    },
    {
      "cell_type": "code",
      "source": [
        "fila = FilaCircular(4)\n",
        "fila.enfileirar(2)\n",
        "fila.enfileirar(5)\n",
        "fila.enfileirar(7)\n",
        "fila.enfileirar(12)"
      ],
      "metadata": {
        "id": "QA9m8Vtjd_00"
      },
      "execution_count": null,
      "outputs": []
    },
    {
      "cell_type": "code",
      "source": [
        "fila.valores\n"
      ],
      "metadata": {
        "colab": {
          "base_uri": "https://localhost:8080/"
        },
        "id": "LkkS-ZRZf4Yp",
        "outputId": "922129fc-d652-43f2-ec66-6461d4ba6670"
      },
      "execution_count": null,
      "outputs": [
        {
          "output_type": "execute_result",
          "data": {
            "text/plain": [
              "array([ 2,  5,  7, 12])"
            ]
          },
          "metadata": {},
          "execution_count": 48
        }
      ]
    },
    {
      "cell_type": "code",
      "source": [
        "fila.desenfileirar()"
      ],
      "metadata": {
        "id": "RNCxqGJzeO97"
      },
      "execution_count": null,
      "outputs": []
    },
    {
      "cell_type": "code",
      "source": [
        "fila.primeiro()"
      ],
      "metadata": {
        "colab": {
          "base_uri": "https://localhost:8080/"
        },
        "id": "7msa3TobeSoq",
        "outputId": "737adacc-07bd-4a4b-d802-2c4f739e06f6"
      },
      "execution_count": null,
      "outputs": [
        {
          "output_type": "execute_result",
          "data": {
            "text/plain": [
              "5"
            ]
          },
          "metadata": {},
          "execution_count": 50
        }
      ]
    },
    {
      "cell_type": "code",
      "source": [],
      "metadata": {
        "id": "9Oxm5piRe9QD"
      },
      "execution_count": null,
      "outputs": []
    }
  ]
}